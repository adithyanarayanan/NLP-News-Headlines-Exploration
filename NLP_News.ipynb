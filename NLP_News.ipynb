{
  "nbformat": 4,
  "nbformat_minor": 0,
  "metadata": {
    "colab": {
      "name": "NLP News",
      "provenance": [],
      "authorship_tag": "ABX9TyOW3BrTNvU9LtF4bhZevOOU",
      "include_colab_link": true
    },
    "kernelspec": {
      "name": "python3",
      "display_name": "Python 3"
    }
  },
  "cells": [
    {
      "cell_type": "markdown",
      "metadata": {
        "id": "view-in-github",
        "colab_type": "text"
      },
      "source": [
        "<a href=\"https://colab.research.google.com/github/adithyanarayanan/NLP-News-Headlines-Exploration/blob/main/NLP_News.ipynb\" target=\"_parent\"><img src=\"https://colab.research.google.com/assets/colab-badge.svg\" alt=\"Open In Colab\"/></a>"
      ]
    },
    {
      "cell_type": "code",
      "metadata": {
        "id": "h1ZPgE_-yOOx",
        "colab": {
          "base_uri": "https://localhost:8080/",
          "height": 459
        },
        "outputId": "9dcca55f-3598-4696-b44e-2cbfe0ecc3ef"
      },
      "source": [
        "import nltk\n",
        "import requests\n",
        "import json\n",
        "from nltk.sentiment.vader import SentimentIntensityAnalyzer\n",
        "\n",
        "nltk.download('vader_lexicon')\n",
        "\n",
        "analyzer = SentimentIntensityAnalyzer()\n",
        "\n",
        "new = {\n",
        "    'positive' : -1,\n",
        "    'tested' : -1\n",
        "}\n",
        "\n",
        "analyzer.lexicon.update(new)\n",
        "\n",
        "\n",
        "\n",
        "# keywords = ['corona', 'covid', 'pandemic', 'infection', 'masks', 'quarantine', 'ppe', 'antibody']\n",
        "# keywords = ['trump', 'pence']\n",
        "# keywords = ['fauci']\n",
        "# keywords = ['obama']\n",
        "\n",
        "desc_values = {}\n",
        "desc_values['pos'] = 0\n",
        "desc_values['neg'] = 0\n",
        "\n",
        "\n",
        "title_values = {}\n",
        "title_values['pos'] = 0\n",
        "title_values['neg'] = 0\n",
        "\n",
        "pages = [1,2,3,4,5]\n",
        "\n",
        "\n",
        "for word in keywords:\n",
        "    print(word)\n",
        "    for page in pages:\n",
        "        # url = \"https://newsapi.org/v2/everything?q=\" + word + \"&sources=fox-news&apiKey= \"insert api key here\"         &page=\" + str(page)\n",
        "        \n",
        "\n",
        "        print(url, \"\\n\")\n",
        "        response = requests.get(url)\n",
        "        #print(response.json())\n",
        "\n",
        "        if response.json()['status'] == \"error\":\n",
        "            # print(\"break\")\n",
        "            break\n",
        "\n",
        "        # print(\"Here\")\n",
        "\n",
        "\n",
        "        i = 0\n",
        "        if len(response.json()['articles']) != 0:\n",
        "\n",
        "            for article in response.json()['articles']:\n",
        "\n",
        "                if article['title'] == None:\n",
        "                        break\n",
        "\n",
        "                if article['description'] == None:\n",
        "                        break\n",
        "                        \n",
        "\n",
        "\n",
        "\n",
        "\n",
        "\n",
        "                #print(article['title'], \"\\n\", article['description'])\n",
        "                if (analyzer.polarity_scores(article['title'])['neg'] > 0) or (analyzer.polarity_scores(article['title'])['pos'] > 0) or (analyzer.polarity_scores(article['description'])['pos'] > 0) or (analyzer.polarity_scores(article['description'])['neg'] > 0):\n",
        "                    # print(article['title'], \"\\n\", article['description'])\n",
        "\n",
        "                    # print(\"Title Score =\", analyzer.polarity_scores(article['title']))\n",
        "                    # print(\"Description Score =\", analyzer.polarity_scores(article['description']))\n",
        "\n",
        "                    # print(\"------------------\\n\")\n",
        "                    # i += 1\n",
        "                    # print(i)\n",
        "\n",
        "                    \n",
        "\n",
        "                    if analyzer.polarity_scores(article['title'])['neg'] > analyzer.polarity_scores(article['title'])['pos']:\n",
        "                        title_values['neg'] += 1\n",
        "                    else:\n",
        "                        title_values['pos'] += 1\n",
        "\n",
        "                    \n",
        "                    # print(article['title'], \"\\n\", article['description'])\n",
        "\n",
        "                    if article['description'] == None:\n",
        "                        break\n",
        "                        \n",
        "\n",
        "\n",
        "                    if analyzer.polarity_scores(article['description'])['neg'] > analyzer.polarity_scores(article['description'])['pos']:\n",
        "                        desc_values['neg'] += 1\n",
        "                    else:\n",
        "                        desc_values['pos'] += 1\n",
        "\n",
        "            \n",
        "print(\"Title Stats\", title_values)\n",
        "print(\"Description Statistics\", desc_values)\n"
      ],
      "execution_count": null,
      "outputs": [
        {
          "output_type": "stream",
          "text": [
            "[nltk_data] Downloading package vader_lexicon to /root/nltk_data...\n",
            "[nltk_data]   Package vader_lexicon is already up-to-date!\n",
            "trump\n",
            "https://newsapi.org/v2/everything?q=trump&sources=fox-news&apiKey=02fcfff24775463ea29d0903d95a312a&page=1 \n",
            "\n",
            "https://newsapi.org/v2/everything?q=trump&sources=fox-news&apiKey=02fcfff24775463ea29d0903d95a312a&page=2 \n",
            "\n",
            "https://newsapi.org/v2/everything?q=trump&sources=fox-news&apiKey=02fcfff24775463ea29d0903d95a312a&page=3 \n",
            "\n",
            "https://newsapi.org/v2/everything?q=trump&sources=fox-news&apiKey=02fcfff24775463ea29d0903d95a312a&page=4 \n",
            "\n",
            "https://newsapi.org/v2/everything?q=trump&sources=fox-news&apiKey=02fcfff24775463ea29d0903d95a312a&page=5 \n",
            "\n",
            "pence\n",
            "https://newsapi.org/v2/everything?q=pence&sources=fox-news&apiKey=02fcfff24775463ea29d0903d95a312a&page=1 \n",
            "\n",
            "https://newsapi.org/v2/everything?q=pence&sources=fox-news&apiKey=02fcfff24775463ea29d0903d95a312a&page=2 \n",
            "\n",
            "https://newsapi.org/v2/everything?q=pence&sources=fox-news&apiKey=02fcfff24775463ea29d0903d95a312a&page=3 \n",
            "\n",
            "https://newsapi.org/v2/everything?q=pence&sources=fox-news&apiKey=02fcfff24775463ea29d0903d95a312a&page=4 \n",
            "\n",
            "https://newsapi.org/v2/everything?q=pence&sources=fox-news&apiKey=02fcfff24775463ea29d0903d95a312a&page=5 \n",
            "\n",
            "Title Stats {'pos': 103, 'neg': 58}\n",
            "Description Statistics {'pos': 91, 'neg': 70}\n"
          ],
          "name": "stdout"
        }
      ]
    },
    {
      "cell_type": "code",
      "metadata": {
        "id": "IKp4wWpLIvKr"
      },
      "source": [
        ""
      ],
      "execution_count": null,
      "outputs": []
    },
    {
      "cell_type": "code",
      "metadata": {
        "id": "IfpDMmIl6W_0",
        "colab": {
          "base_uri": "https://localhost:8080/",
          "height": 67
        },
        "outputId": "565b90d4-ff8f-4b01-d8e8-94ac57d5f604"
      },
      "source": [
        "import nltk\n",
        "import requests\n",
        "import json\n",
        "from nltk.sentiment.vader import SentimentIntensityAnalyzer\n",
        "\n",
        "nltk.download('vader_lexicon')\n",
        "\n",
        "\n",
        "\n",
        "analyzer = SentimentIntensityAnalyzer()\n",
        "\n",
        "analyzer.polarity_scores(\"Trump spoke in an aggrandized manner about the crowds he draws\")\n"
      ],
      "execution_count": null,
      "outputs": [
        {
          "output_type": "stream",
          "text": [
            "[nltk_data] Downloading package vader_lexicon to /root/nltk_data...\n",
            "[nltk_data]   Package vader_lexicon is already up-to-date!\n"
          ],
          "name": "stdout"
        },
        {
          "output_type": "execute_result",
          "data": {
            "text/plain": [
              "{'compound': 0.0, 'neg': 0.0, 'neu': 1.0, 'pos': 0.0}"
            ]
          },
          "metadata": {
            "tags": []
          },
          "execution_count": 4
        }
      ]
    },
    {
      "cell_type": "markdown",
      "metadata": {
        "id": "neR_mVcE_VX-"
      },
      "source": [
        "# Fox News\n",
        "\n",
        "\n",
        "Title Stats {'pos': 304, 'neg': 189} \n",
        "\n",
        "Description Statistics {'pos': 278, 'neg': 215}"
      ]
    },
    {
      "cell_type": "markdown",
      "metadata": {
        "id": "_L5txgnA_YzS"
      },
      "source": [
        "#CNN\n",
        "\n",
        "Title Stats {'pos': 298, 'neg': 173}\n",
        "\n",
        "Description Statistics {'pos': 232, 'neg': 239}\n"
      ]
    }
  ]
}